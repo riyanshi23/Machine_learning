{
  "nbformat": 4,
  "nbformat_minor": 0,
  "metadata": {
    "colab": {
      "name": "list comprehension lab 1",
      "provenance": [],
      "authorship_tag": "ABX9TyPZDJpVJ6PDq2sz2/OlHtxq",
      "include_colab_link": true
    },
    "kernelspec": {
      "name": "python3",
      "display_name": "Python 3"
    },
    "language_info": {
      "name": "python"
    }
  },
  "cells": [
    {
      "cell_type": "markdown",
      "metadata": {
        "id": "view-in-github",
        "colab_type": "text"
      },
      "source": [
        "<a href=\"https://colab.research.google.com/github/riyanshi23/Machine_learning/blob/main/list_comprehension_lab_1.ipynb\" target=\"_parent\"><img src=\"https://colab.research.google.com/assets/colab-badge.svg\" alt=\"Open In Colab\"/></a>"
      ]
    },
    {
      "cell_type": "code",
      "execution_count": null,
      "metadata": {
        "colab": {
          "base_uri": "https://localhost:8080/"
        },
        "id": "6Z7UqAlpS759",
        "outputId": "b1dda84f-3b49-49b7-f671-e57e597f6dc3"
      },
      "outputs": [
        {
          "output_type": "execute_result",
          "data": {
            "text/plain": [
              "[2500]"
            ]
          },
          "metadata": {},
          "execution_count": 1
        }
      ],
      "source": [
        "#to print the square of number in the list given if it is greater than 50\n",
        "l1=[1,2,3,4]\n",
        "[i**2 for i in (0,50)if i**2>50]"
      ]
    },
    {
      "cell_type": "code",
      "source": [
        "#for a given list if value is >5 then print hi else print bye\n",
        "l1=[1,2,3,4]\n",
        "['hi' if(i>5) else 'bye' for i in l1]"
      ],
      "metadata": {
        "colab": {
          "base_uri": "https://localhost:8080/"
        },
        "id": "9w_fVUkViLnw",
        "outputId": "3ca8c611-cba0-46c1-be00-77bcd1fb1c1d"
      },
      "execution_count": 2,
      "outputs": [
        {
          "output_type": "execute_result",
          "data": {
            "text/plain": [
              "['bye', 'bye', 'bye', 'bye']"
            ]
          },
          "metadata": {},
          "execution_count": 2
        }
      ]
    },
    {
      "cell_type": "code",
      "source": [
        "#if x**2 is<=10 execute 27*x for values in range 1 to 20\n",
        "[27*x for x in range(1,20) if x**2<=50]"
      ],
      "metadata": {
        "colab": {
          "base_uri": "https://localhost:8080/"
        },
        "id": "QYrCb9JJiuKk",
        "outputId": "7cd62e4d-c121-450a-8fe8-3b97fe88834a"
      },
      "execution_count": 3,
      "outputs": [
        {
          "output_type": "execute_result",
          "data": {
            "text/plain": [
              "[27, 54, 81, 108, 135, 162, 189]"
            ]
          },
          "metadata": {},
          "execution_count": 3
        }
      ]
    },
    {
      "cell_type": "code",
      "source": [
        "#print all the even number 1 to 20\n",
        "[i for i in range(1,21) if i%2==0]"
      ],
      "metadata": {
        "colab": {
          "base_uri": "https://localhost:8080/"
        },
        "id": "DwEUI2q3jIZv",
        "outputId": "5da9db61-435d-4295-ac05-92a12c108380"
      },
      "execution_count": 4,
      "outputs": [
        {
          "output_type": "execute_result",
          "data": {
            "text/plain": [
              "[2, 4, 6, 8, 10, 12, 14, 16, 18, 20]"
            ]
          },
          "metadata": {},
          "execution_count": 4
        }
      ]
    },
    {
      "cell_type": "code",
      "source": [
        "#find all the numbers that can be divided by 2 and 5 in some range \n",
        "[i for i in range(1,101) if(i%2==0) and (i%5==0)]"
      ],
      "metadata": {
        "colab": {
          "base_uri": "https://localhost:8080/"
        },
        "id": "8cowcmRqjXDT",
        "outputId": "4b35c097-5f0a-4714-e005-afe1767cc4f2"
      },
      "execution_count": 5,
      "outputs": [
        {
          "output_type": "execute_result",
          "data": {
            "text/plain": [
              "[10, 20, 30, 40, 50, 60, 70, 80, 90, 100]"
            ]
          },
          "metadata": {},
          "execution_count": 5
        }
      ]
    },
    {
      "cell_type": "code",
      "source": [
        "#find all the numbers from 1 to 1000 that have 3 in them\n",
        "[i for i in range(1,1001) if'3' in str(i)]"
      ],
      "metadata": {
        "id": "wDMlt0DNjvuq"
      },
      "execution_count": null,
      "outputs": []
    },
    {
      "cell_type": "code",
      "source": [
        "#count the number of spaces in string\n",
        "s=\"i love CT\"\n",
        "l1=[i for i in s if i==\" \"]\n",
        "print(len(l1))"
      ],
      "metadata": {
        "colab": {
          "base_uri": "https://localhost:8080/"
        },
        "id": "JbTuiQiWksY2",
        "outputId": "915e5e37-9996-4cca-85c2-3cc9d7e788a6"
      },
      "execution_count": 14,
      "outputs": [
        {
          "output_type": "stream",
          "name": "stdout",
          "text": [
            "2\n"
          ]
        }
      ]
    },
    {
      "cell_type": "code",
      "source": [
        "#count the number of consonants\n",
        "s=\"jkhdfshfghjkhdthkabcgyuiknnkljbbjkjkkpoyfvvpow\"\n",
        "l1=[i for i in s if i not in 'a,i,e,o,u' '']\n",
        "print(len(l1))"
      ],
      "metadata": {
        "colab": {
          "base_uri": "https://localhost:8080/"
        },
        "id": "xfKe5cFklCTh",
        "outputId": "69c999dc-d623-430d-ff15-dda55d788bbc"
      },
      "execution_count": 15,
      "outputs": [
        {
          "output_type": "stream",
          "name": "stdout",
          "text": [
            "41\n"
          ]
        }
      ]
    }
  ]
}